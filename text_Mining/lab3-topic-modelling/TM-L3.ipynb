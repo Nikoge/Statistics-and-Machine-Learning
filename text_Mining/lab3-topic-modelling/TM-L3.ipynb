{
 "cells": [
  {
   "cell_type": "markdown",
   "metadata": {},
   "source": [
    "# L3: Text clustering and topic modelling"
   ]
  },
  {
   "cell_type": "markdown",
   "metadata": {},
   "source": [
    "Text clustering groups documents in such a way that documents within a group are more &lsquo;similar&rsquo; to other documents in the cluster than to documents not in the cluster. The exact definition of what &lsquo;similar&rsquo; means in this context varies across applications and clustering algorithms.\n",
    "\n",
    "In this lab you will experiment with both hard and soft clustering techniques. More specifically, in the first part you will be using the $k$-means algorithm, and in the second part you will be using a topic model based on the Latent Dirichlet Allocation (LDA)."
   ]
  },
  {
   "cell_type": "markdown",
   "metadata": {},
   "source": [
    "## Hard clustering data set"
   ]
  },
  {
   "cell_type": "markdown",
   "metadata": {},
   "source": [
    "The raw data for the hard clustering part of this lab is a collection of product reviews. We have preprocessed the data by tokenization and lowercasing."
   ]
  },
  {
   "cell_type": "code",
   "execution_count": 1,
   "metadata": {},
   "outputs": [],
   "source": [
    "import pandas as pd\n",
    "import bz2\n",
    "\n",
    "with bz2.open(\"reviews.json.bz2\") as source:\n",
    "    df = pd.read_json(source)"
   ]
  },
  {
   "cell_type": "markdown",
   "metadata": {},
   "source": [
    "When you inspect the data frame, you can see that there are three labelled columns: `category` (the product category), `sentiment` (whether the product review was classified as &lsquo;positive&rsquo; or &lsquo;negative&rsquo; towards the product), and `text` (the space-separated text of the review)."
   ]
  },
  {
   "cell_type": "code",
   "execution_count": 2,
   "metadata": {},
   "outputs": [
    {
     "data": {
      "text/html": [
       "<div>\n",
       "<style scoped>\n",
       "    .dataframe tbody tr th:only-of-type {\n",
       "        vertical-align: middle;\n",
       "    }\n",
       "\n",
       "    .dataframe tbody tr th {\n",
       "        vertical-align: top;\n",
       "    }\n",
       "\n",
       "    .dataframe thead th {\n",
       "        text-align: right;\n",
       "    }\n",
       "</style>\n",
       "<table border=\"1\" class=\"dataframe\">\n",
       "  <thead>\n",
       "    <tr style=\"text-align: right;\">\n",
       "      <th></th>\n",
       "      <th>category</th>\n",
       "      <th>sentiment</th>\n",
       "      <th>text</th>\n",
       "    </tr>\n",
       "  </thead>\n",
       "  <tbody>\n",
       "    <tr>\n",
       "      <th>0</th>\n",
       "      <td>music</td>\n",
       "      <td>neg</td>\n",
       "      <td>i bought this album because i loved the title ...</td>\n",
       "    </tr>\n",
       "    <tr>\n",
       "      <th>1</th>\n",
       "      <td>music</td>\n",
       "      <td>neg</td>\n",
       "      <td>i was misled and thought i was buying the enti...</td>\n",
       "    </tr>\n",
       "    <tr>\n",
       "      <th>2</th>\n",
       "      <td>books</td>\n",
       "      <td>neg</td>\n",
       "      <td>i have introduced many of my ell , high school...</td>\n",
       "    </tr>\n",
       "    <tr>\n",
       "      <th>3</th>\n",
       "      <td>books</td>\n",
       "      <td>pos</td>\n",
       "      <td>anything you purchase in the left behind serie...</td>\n",
       "    </tr>\n",
       "    <tr>\n",
       "      <th>4</th>\n",
       "      <td>dvd</td>\n",
       "      <td>pos</td>\n",
       "      <td>i loved these movies , and i cant wiat for the...</td>\n",
       "    </tr>\n",
       "  </tbody>\n",
       "</table>\n",
       "</div>"
      ],
      "text/plain": [
       "  category sentiment                                               text\n",
       "0    music       neg  i bought this album because i loved the title ...\n",
       "1    music       neg  i was misled and thought i was buying the enti...\n",
       "2    books       neg  i have introduced many of my ell , high school...\n",
       "3    books       pos  anything you purchase in the left behind serie...\n",
       "4      dvd       pos  i loved these movies , and i cant wiat for the..."
      ]
     },
     "execution_count": 2,
     "metadata": {},
     "output_type": "execute_result"
    }
   ],
   "source": [
    "df.head()"
   ]
  },
  {
   "cell_type": "code",
   "execution_count": 3,
   "metadata": {},
   "outputs": [
    {
     "data": {
      "text/plain": [
       "{'books', 'camera', 'dvd', 'health', 'music', 'software'}"
      ]
     },
     "execution_count": 3,
     "metadata": {},
     "output_type": "execute_result"
    }
   ],
   "source": [
    "set(df.category)"
   ]
  },
  {
   "cell_type": "markdown",
   "metadata": {},
   "source": [
    "## Problem 1: K-means clustering"
   ]
  },
  {
   "cell_type": "markdown",
   "metadata": {},
   "source": [
    "Your first task is to cluster the product review data using a tf–idf vectorizer and a $k$-means clusterer."
   ]
  },
  {
   "cell_type": "markdown",
   "metadata": {},
   "source": [
    "Start by doing the vectorization. In connection with vectorization, you should also filter out standard English stop words. While you could use [spaCy](https://spacy.io/) for this task, here it suffices to use the word list implemented in [TfidfVectorizer](https://scikit-learn.org/stable/modules/generated/sklearn.feature_extraction.text.TfidfVectorizer.html)."
   ]
  },
  {
   "cell_type": "code",
   "execution_count": 4,
   "metadata": {},
   "outputs": [],
   "source": [
    "import spacy\n",
    "nlp = spacy.load(\"en_core_web_sm\", disable=[\"tagger\", \"parser\", \"ner\"])\n",
    "def preprocess(text):\n",
    "    doc = nlp(text)\n",
    "    out = [token.lemma_ for token in doc if not token.is_stop and token.lemma_.isalpha()]\n",
    "    return out"
   ]
  },
  {
   "cell_type": "code",
   "execution_count": 5,
   "metadata": {},
   "outputs": [],
   "source": [
    "import numpy as np\n",
    "from sklearn.feature_extraction.text import TfidfVectorizer\n",
    "\n",
    "vectorizer = TfidfVectorizer(tokenizer=preprocess)\n",
    "reviews = vectorizer.fit_transform(df[\"text\"])"
   ]
  },
  {
   "cell_type": "markdown",
   "metadata": {},
   "source": [
    "Test your vectorization by running the following code cell:"
   ]
  },
  {
   "cell_type": "code",
   "execution_count": 6,
   "metadata": {},
   "outputs": [
    {
     "data": {
      "text/plain": [
       "(11914, 34940)"
      ]
     },
     "execution_count": 6,
     "metadata": {},
     "output_type": "execute_result"
    }
   ],
   "source": [
    "reviews.shape"
   ]
  },
  {
   "cell_type": "markdown",
   "metadata": {},
   "source": [
    "If you used the English stop word list from scikit-learn, then the resulting vocabulary should have 46,619 entries."
   ]
  },
  {
   "cell_type": "markdown",
   "metadata": {},
   "source": [
    "Next, cluster the vectorized data. Before doing so, you should read the documentation of the [KMeans](https://scikit-learn.org/stable/modules/generated/sklearn.cluster.KMeans.html) class, which is scikit-learn&rsquo;s implementation of the $k$-means algorithm. As you can see, this class has several parameters that you can tweak. For now, the only parameter that you will have to set is the number of clusters. We recommend that you choose $k=3$.\n",
    "\n",
    "**Tip:** Training $k$-means models will take some time. To speed things up, you can use the `n_init` parameter to control the number of times that the clustering is re-computed with different initial values. The default value for this parameter is 10; here and in the rest of this lab, you may want to set this to a lower value."
   ]
  },
  {
   "cell_type": "code",
   "execution_count": 7,
   "metadata": {},
   "outputs": [],
   "source": [
    "from sklearn.cluster import KMeans\n",
    "k = 3\n",
    "model_kmeans = KMeans(n_clusters=k, n_init=5, random_state=12345).fit(reviews)"
   ]
  },
  {
   "cell_type": "markdown",
   "metadata": {},
   "source": [
    "To sanity-check your clustering, create a bar plot with the number of documents per cluster."
   ]
  },
  {
   "cell_type": "code",
   "execution_count": 8,
   "metadata": {},
   "outputs": [
    {
     "data": {
      "text/plain": [
       "<Figure size 640x480 with 1 Axes>"
      ]
     },
     "metadata": {},
     "output_type": "display_data"
    }
   ],
   "source": [
    "import matplotlib.pyplot as plt\n",
    "# get cluster sizes\n",
    "x, y = np.unique(model_kmeans.labels_, return_counts=True)\n",
    "\n",
    "plt.bar(x, y, color=\"blue\")\n",
    "plt.xticks(x, x)    # to just have those values on x axis\n",
    "plt.xlabel(\"Clusters\")\n",
    "plt.ylabel(\"Counts\")\n",
    "plt.title(\"Cluster Sizes\")\n",
    "\n",
    "plt.show()"
   ]
  },
  {
   "cell_type": "markdown",
   "metadata": {},
   "source": [
    "Note that sizes may vary considerable between clusters and among different random seeds."
   ]
  },
  {
   "cell_type": "markdown",
   "metadata": {},
   "source": [
    "## Problem 2: Summarize clusters"
   ]
  },
  {
   "cell_type": "markdown",
   "metadata": {},
   "source": [
    "Once you have a clustering, you can try to see whether it is meaningful. One useful technique in that context is to generate a **summary** for each cluster by extracting the $n$ highest-weighted terms from the centroid of each cluster. Your next task is to implement this approach.\n",
    "\n",
    "**Hint:** You will need to construct an &lsquo;inverted vocabulary&rsquo; that allows you to map from the index of a term back to the original term."
   ]
  },
  {
   "cell_type": "markdown",
   "metadata": {},
   "source": [
    "### n highest-weighted terms of centroids"
   ]
  },
  {
   "cell_type": "code",
   "execution_count": 9,
   "metadata": {},
   "outputs": [],
   "source": [
    "def summarizeClusters(model_kmeans, trainVectorizer, n=10):\n",
    "    # find the highest n tfidf values for each cluster\n",
    "    summaryIndexes = [centroid.argsort()[-n:][::-1] for centroid in model_kmeans.cluster_centers_]\n",
    "    # get the words from vectorizer\n",
    "    summary = [[trainVectorizer.get_feature_names()[i] for i in summ] for summ in summaryIndexes]\n",
    "    # transform it to dataframe and return\n",
    "    return(pd.DataFrame({c: summary[c] for c in range(model_kmeans.n_clusters)}))"
   ]
  },
  {
   "cell_type": "code",
   "execution_count": 10,
   "metadata": {},
   "outputs": [
    {
     "data": {
      "text/html": [
       "<div>\n",
       "<style scoped>\n",
       "    .dataframe tbody tr th:only-of-type {\n",
       "        vertical-align: middle;\n",
       "    }\n",
       "\n",
       "    .dataframe tbody tr th {\n",
       "        vertical-align: top;\n",
       "    }\n",
       "\n",
       "    .dataframe thead th {\n",
       "        text-align: right;\n",
       "    }\n",
       "</style>\n",
       "<table border=\"1\" class=\"dataframe\">\n",
       "  <thead>\n",
       "    <tr style=\"text-align: right;\">\n",
       "      <th></th>\n",
       "      <th>0</th>\n",
       "      <th>1</th>\n",
       "      <th>2</th>\n",
       "    </tr>\n",
       "  </thead>\n",
       "  <tbody>\n",
       "    <tr>\n",
       "      <th>0</th>\n",
       "      <td>book</td>\n",
       "      <td>movie</td>\n",
       "      <td>camera</td>\n",
       "    </tr>\n",
       "    <tr>\n",
       "      <th>1</th>\n",
       "      <td>read</td>\n",
       "      <td>like</td>\n",
       "      <td>picture</td>\n",
       "    </tr>\n",
       "    <tr>\n",
       "      <th>2</th>\n",
       "      <td>write</td>\n",
       "      <td>product</td>\n",
       "      <td>lens</td>\n",
       "    </tr>\n",
       "    <tr>\n",
       "      <th>3</th>\n",
       "      <td>author</td>\n",
       "      <td>work</td>\n",
       "      <td>battery</td>\n",
       "    </tr>\n",
       "    <tr>\n",
       "      <th>4</th>\n",
       "      <td>story</td>\n",
       "      <td>great</td>\n",
       "      <td>canon</td>\n",
       "    </tr>\n",
       "    <tr>\n",
       "      <th>5</th>\n",
       "      <td>like</td>\n",
       "      <td>buy</td>\n",
       "      <td>take</td>\n",
       "    </tr>\n",
       "    <tr>\n",
       "      <th>6</th>\n",
       "      <td>find</td>\n",
       "      <td>good</td>\n",
       "      <td>buy</td>\n",
       "    </tr>\n",
       "    <tr>\n",
       "      <th>7</th>\n",
       "      <td>character</td>\n",
       "      <td>time</td>\n",
       "      <td>digital</td>\n",
       "    </tr>\n",
       "    <tr>\n",
       "      <th>8</th>\n",
       "      <td>page</td>\n",
       "      <td>album</td>\n",
       "      <td>use</td>\n",
       "    </tr>\n",
       "    <tr>\n",
       "      <th>9</th>\n",
       "      <td>time</td>\n",
       "      <td>well</td>\n",
       "      <td>flash</td>\n",
       "    </tr>\n",
       "  </tbody>\n",
       "</table>\n",
       "</div>"
      ],
      "text/plain": [
       "           0        1        2\n",
       "0       book    movie   camera\n",
       "1       read     like  picture\n",
       "2      write  product     lens\n",
       "3     author     work  battery\n",
       "4      story    great    canon\n",
       "5       like      buy     take\n",
       "6       find     good      buy\n",
       "7  character     time  digital\n",
       "8       page    album      use\n",
       "9       time     well    flash"
      ]
     },
     "execution_count": 10,
     "metadata": {},
     "output_type": "execute_result"
    }
   ],
   "source": [
    "summarizeClusters(model_kmeans, vectorizer, 10)"
   ]
  },
  {
   "cell_type": "markdown",
   "metadata": {},
   "source": [
    "### Re-cluster with k=6"
   ]
  },
  {
   "cell_type": "code",
   "execution_count": 11,
   "metadata": {},
   "outputs": [],
   "source": [
    "model_kmeans_k6 = KMeans(n_clusters=6, n_init=5, random_state=12345).fit(reviews)"
   ]
  },
  {
   "cell_type": "code",
   "execution_count": 12,
   "metadata": {},
   "outputs": [
    {
     "data": {
      "text/html": [
       "<div>\n",
       "<style scoped>\n",
       "    .dataframe tbody tr th:only-of-type {\n",
       "        vertical-align: middle;\n",
       "    }\n",
       "\n",
       "    .dataframe tbody tr th {\n",
       "        vertical-align: top;\n",
       "    }\n",
       "\n",
       "    .dataframe thead th {\n",
       "        text-align: right;\n",
       "    }\n",
       "</style>\n",
       "<table border=\"1\" class=\"dataframe\">\n",
       "  <thead>\n",
       "    <tr style=\"text-align: right;\">\n",
       "      <th></th>\n",
       "      <th>0</th>\n",
       "      <th>1</th>\n",
       "      <th>2</th>\n",
       "      <th>3</th>\n",
       "      <th>4</th>\n",
       "      <th>5</th>\n",
       "    </tr>\n",
       "  </thead>\n",
       "  <tbody>\n",
       "    <tr>\n",
       "      <th>0</th>\n",
       "      <td>camera</td>\n",
       "      <td>work</td>\n",
       "      <td>movie</td>\n",
       "      <td>book</td>\n",
       "      <td>album</td>\n",
       "      <td>program</td>\n",
       "    </tr>\n",
       "    <tr>\n",
       "      <th>1</th>\n",
       "      <td>picture</td>\n",
       "      <td>product</td>\n",
       "      <td>film</td>\n",
       "      <td>read</td>\n",
       "      <td>song</td>\n",
       "      <td>software</td>\n",
       "    </tr>\n",
       "    <tr>\n",
       "      <th>2</th>\n",
       "      <td>lens</td>\n",
       "      <td>buy</td>\n",
       "      <td>watch</td>\n",
       "      <td>write</td>\n",
       "      <td>cd</td>\n",
       "      <td>product</td>\n",
       "    </tr>\n",
       "    <tr>\n",
       "      <th>3</th>\n",
       "      <td>battery</td>\n",
       "      <td>great</td>\n",
       "      <td>see</td>\n",
       "      <td>author</td>\n",
       "      <td>music</td>\n",
       "      <td>version</td>\n",
       "    </tr>\n",
       "    <tr>\n",
       "      <th>4</th>\n",
       "      <td>take</td>\n",
       "      <td>like</td>\n",
       "      <td>like</td>\n",
       "      <td>story</td>\n",
       "      <td>listen</td>\n",
       "      <td>computer</td>\n",
       "    </tr>\n",
       "    <tr>\n",
       "      <th>5</th>\n",
       "      <td>canon</td>\n",
       "      <td>good</td>\n",
       "      <td>character</td>\n",
       "      <td>like</td>\n",
       "      <td>like</td>\n",
       "      <td>use</td>\n",
       "    </tr>\n",
       "    <tr>\n",
       "      <th>6</th>\n",
       "      <td>buy</td>\n",
       "      <td>time</td>\n",
       "      <td>story</td>\n",
       "      <td>find</td>\n",
       "      <td>sound</td>\n",
       "      <td>work</td>\n",
       "    </tr>\n",
       "    <tr>\n",
       "      <th>7</th>\n",
       "      <td>use</td>\n",
       "      <td>use</td>\n",
       "      <td>scene</td>\n",
       "      <td>page</td>\n",
       "      <td>band</td>\n",
       "      <td>install</td>\n",
       "    </tr>\n",
       "    <tr>\n",
       "      <th>8</th>\n",
       "      <td>digital</td>\n",
       "      <td>well</td>\n",
       "      <td>great</td>\n",
       "      <td>character</td>\n",
       "      <td>track</td>\n",
       "      <td>easy</td>\n",
       "    </tr>\n",
       "    <tr>\n",
       "      <th>9</th>\n",
       "      <td>flash</td>\n",
       "      <td>hair</td>\n",
       "      <td>good</td>\n",
       "      <td>time</td>\n",
       "      <td>great</td>\n",
       "      <td>upgrade</td>\n",
       "    </tr>\n",
       "  </tbody>\n",
       "</table>\n",
       "</div>"
      ],
      "text/plain": [
       "         0        1          2          3       4         5\n",
       "0   camera     work      movie       book   album   program\n",
       "1  picture  product       film       read    song  software\n",
       "2     lens      buy      watch      write      cd   product\n",
       "3  battery    great        see     author   music   version\n",
       "4     take     like       like      story  listen  computer\n",
       "5    canon     good  character       like    like       use\n",
       "6      buy     time      story       find   sound      work\n",
       "7      use      use      scene       page    band   install\n",
       "8  digital     well      great  character   track      easy\n",
       "9    flash     hair       good       time   great   upgrade"
      ]
     },
     "execution_count": 12,
     "metadata": {},
     "output_type": "execute_result"
    }
   ],
   "source": [
    "summary_k6 = summarizeClusters(model_kmeans=model_kmeans_k6, trainVectorizer=vectorizer, n=10)\n",
    "summary_k6"
   ]
  },
  {
   "cell_type": "markdown",
   "metadata": {},
   "source": [
    "Once you have computed the cluster summaries, discuss their quality. Is it clear what the reviews in a given cluster are about? Which clusters are clearest? Which are less clear? Do the cluster summaries contain any unexpected terms? What happens if you re-cluster with, say, $k=6$?"
   ]
  },
  {
   "cell_type": "markdown",
   "metadata": {},
   "source": [
    "*TODO: Insert your analysis of the clusters here*"
   ]
  },
  {
   "cell_type": "markdown",
   "metadata": {},
   "source": [
    "## Problem 3: Tune the k-means algorithm"
   ]
  },
  {
   "cell_type": "markdown",
   "metadata": {},
   "source": [
    "A major limitation of the $k$-means algorithm is that one has to manually set the value for $k$, the number of clusters. One heuristic that can help you with this is the [Elbow method](https://en.wikipedia.org/wiki/Elbow_method_(clustering)). Your next task is to implement this method to see whether it allows you to find a better value for $k$.\n",
    "\n",
    "To follow the elbow method, you should plot different values of $k$ against the **inertia** (sums of squared distances between documents and closest centroids) of the fitted $k$-means model, and pick the $k$ at the &lsquo;elbow point&rsquo; of the resulting graph. Test cluster sizes between 1 and 9.\n",
    "\n",
    "**Note that this will take a while.**"
   ]
  },
  {
   "cell_type": "code",
   "execution_count": 13,
   "metadata": {},
   "outputs": [],
   "source": [
    "def elbow_method(trainData, kValues=[1,2,3]):\n",
    "    intertiaScores = [KMeans(n_clusters=k, \n",
    "                             n_init=5, \n",
    "                             random_state=12345).\n",
    "                      fit(trainData).inertia_ for k in kValues]\n",
    "    return(pd.DataFrame({\"k\": kValues, \"intertia\": intertiaScores}))"
   ]
  },
  {
   "cell_type": "code",
   "execution_count": 14,
   "metadata": {},
   "outputs": [],
   "source": [
    "intertias = elbow_method(reviews, list(range(1,10)))"
   ]
  },
  {
   "cell_type": "code",
   "execution_count": 15,
   "metadata": {},
   "outputs": [
    {
     "data": {
      "image/png": "[encoded data removed]",
      "text/plain": [
       "<Figure size 576x360 with 1 Axes>"
      ]
     },
     "metadata": {
      "needs_background": "light"
     },
     "output_type": "display_data"
    }
   ],
   "source": [
    "fig, ax = plt.subplots(figsize=(8, 5))\n",
    "ax.plot(intertias.k, intertias.intertia, \"o-\")\n",
    "ax.set(xlabel='k', ylabel='Intertia Score',\n",
    "       title='Intertia Score over Cluster Count')\n",
    "\n",
    "plt.show()"
   ]
  },
  {
   "cell_type": "markdown",
   "metadata": {},
   "source": [
    "Once you have the diagram, can you see a pronounced &lsquo;elbow point&rsquo;? Discuss your findings in a short text."
   ]
  },
  {
   "cell_type": "markdown",
   "metadata": {},
   "source": [
    "*TODO: Insert your discussion of the elbow method here*"
   ]
  },
  {
   "cell_type": "markdown",
   "metadata": {},
   "source": [
    "## Problem 4: Compare clusterings using the Rand index"
   ]
  },
  {
   "cell_type": "markdown",
   "metadata": {},
   "source": [
    "In some scenarios, you may have gold-standard class labels available for at least a subset of your documents. In these cases you can compute the **Rand index** of a clustering, and use this measure to compare the quality of different clusterings.\n",
    "\n",
    "To compute the Rand index, we view a clustering as a binary classifier on pairs of documents. The classifier predicts &lsquo;positive&rsquo; if and only if the two documents belong to the same cluster. The (non-normalized) Rand index of the clustering is the accuracy of this classifier relative to a reference in which a document pair belongs to the &lsquo;positive&rsquo; class if and only if the two documents in the pair have the same gold-standard class label.\n",
    "\n",
    "Compare a clustering with $k=3$ clusters to a second clustering with $k=6$ clusters. As your evaluation data, use the first 500 documents from the original data set along with their gold-standard categories (from the `category` column). What do you observe? How do you interpret your observations? What arguments can you find against the Rand index as a measure for comparing clusterings?"
   ]
  },
  {
   "cell_type": "markdown",
   "metadata": {},
   "source": [
    "### randIndex function and Solution"
   ]
  },
  {
   "cell_type": "code",
   "execution_count": 16,
   "metadata": {},
   "outputs": [],
   "source": [
    "from itertools import combinations\n",
    "def randIndex(golden, pred):\n",
    "    '''this function first transforms vectors to pairs for each and compare those pairs\n",
    "    and finds booleans for the pairs in golden and pred inputs. After that compares\n",
    "    those booleans in order to classify pairs and calculate accuracy of it.'''\n",
    "    golden, pred = np.array(golden), np.array(pred)\n",
    "    n = len(golden)\n",
    "    compare = lambda x: x[0]==x[1]\n",
    "    pairClassifier = [compare(golden[list(pair)]) == compare(pred[list(pair)]) \n",
    "                      for pair in combinations(range(n),2)]\n",
    "    return(np.sum(pairClassifier) / len(pairClassifier))"
   ]
  },
  {
   "cell_type": "code",
   "execution_count": 17,
   "metadata": {},
   "outputs": [],
   "source": [
    "n = 500\n",
    "pred_k3 = model_kmeans.labels_[:n]\n",
    "pred_k6 = model_kmeans_k6.labels_[:n]\n",
    "golden = np.array(df[\"category\"][:n])"
   ]
  },
  {
   "cell_type": "code",
   "execution_count": 18,
   "metadata": {},
   "outputs": [
    {
     "name": "stdout",
     "output_type": "stream",
     "text": [
      "randIndex Accuracy k3:\t 0.46926653306613225\n",
      "randIndex Accuracy k6:\t 0.7719038076152305\n"
     ]
    }
   ],
   "source": [
    "print(\"randIndex Accuracy k3:\\t\", randIndex(golden, pred_k3))\n",
    "print(\"randIndex Accuracy k6:\\t\", randIndex(golden, pred_k6))"
   ]
  },
  {
   "cell_type": "markdown",
   "metadata": {},
   "source": [
    "*TODO: Insert your discussion of your results here*"
   ]
  },
  {
   "cell_type": "markdown",
   "metadata": {},
   "source": [
    "### Quicklook to randIndex function"
   ]
  },
  {
   "cell_type": "code",
   "execution_count": 19,
   "metadata": {},
   "outputs": [],
   "source": [
    "golden = np.array([1,1,2])\n",
    "pred = np.array([3,3,1])\n",
    "n = len(golden)"
   ]
  },
  {
   "cell_type": "code",
   "execution_count": 20,
   "metadata": {},
   "outputs": [],
   "source": [
    "compare = lambda x: x[0]==x[1]"
   ]
  },
  {
   "cell_type": "code",
   "execution_count": 21,
   "metadata": {},
   "outputs": [],
   "source": [
    "cmb = combinations(range(n),2)"
   ]
  },
  {
   "cell_type": "code",
   "execution_count": 22,
   "metadata": {},
   "outputs": [
    {
     "data": {
      "text/plain": [
       "[(array([1, 1]), array([3, 3])),\n",
       " (array([1, 2]), array([3, 1])),\n",
       " (array([1, 2]), array([3, 1]))]"
      ]
     },
     "execution_count": 22,
     "metadata": {},
     "output_type": "execute_result"
    }
   ],
   "source": [
    "# get all pairs of golden and preds\n",
    "[(golden[list(pair)], pred[list(pair)]) for pair in combinations(range(n),2)]"
   ]
  },
  {
   "cell_type": "code",
   "execution_count": 23,
   "metadata": {},
   "outputs": [
    {
     "data": {
      "text/plain": [
       "[(True, True), (False, False), (False, False)]"
      ]
     },
     "execution_count": 23,
     "metadata": {},
     "output_type": "execute_result"
    }
   ],
   "source": [
    "# compare pairs to get booleans\n",
    "[(compare(golden[list(pair)]), compare(pred[list(pair)])) for pair in combinations(range(n),2)]"
   ]
  },
  {
   "cell_type": "code",
   "execution_count": 24,
   "metadata": {},
   "outputs": [
    {
     "data": {
      "text/plain": [
       "[True, True, True]"
      ]
     },
     "execution_count": 24,
     "metadata": {},
     "output_type": "execute_result"
    }
   ],
   "source": [
    "# compare resulting booleans too and we can calculate accuracy for classifier\n",
    "[compare(golden[list(pair)]) == compare(pred[list(pair)]) for pair in  combinations(range(n),2)]"
   ]
  },
  {
   "cell_type": "markdown",
   "metadata": {},
   "source": [
    "## Topic modelling data set"
   ]
  },
  {
   "cell_type": "markdown",
   "metadata": {},
   "source": [
    "The data set for the topic modelling part of this lab is the collection of all [State of the Union](https://en.wikipedia.org/wiki/State_of_the_Union) addresses from the years 1975–2000. These speeches come as a single text file with one sentence per line. The following code cell prints the first 5 lines from the data file:"
   ]
  },
  {
   "cell_type": "code",
   "execution_count": 25,
   "metadata": {},
   "outputs": [
    {
     "name": "stdout",
     "output_type": "stream",
     "text": [
      "mr speaker mr vice president members of the 94th congress and distinguished guests\n",
      "twenty six years ago a freshman congressman a young fellow with lots of idealism who was out to change the world stood before sam rayburn in the well of the house and solemnly swore to the same oath that all of you took yesterday an unforgettable experience and i congratulate you all\n",
      "two days later that same freshman stood at the back of this great chamber over there someplace as president truman all charged up by his single handed election victory reported as the constitution requires on the state of the union\n",
      "when the bipartisan applause stopped president truman said i am happy to report to this 81st congress that the state of the union is good our nation is better able than ever before to meet the needs of the american people and to give them their fair chance in the pursuit of happiness it is foremost among the nations of the world in the search for peace\n",
      "today that freshman member from michigan stands where mr truman stood and i must say to you that the state of the union is not good\n",
      "millions of americans are out of work\n"
     ]
    }
   ],
   "source": [
    "with open(\"sotu_1975_2000.txt\") as source:\n",
    "    for i, line in enumerate(source):\n",
    "        print(line.rstrip())\n",
    "        if i >= 5:\n",
    "            break"
   ]
  },
  {
   "cell_type": "markdown",
   "metadata": {},
   "source": [
    "## Problem 5: Train a topic model"
   ]
  },
  {
   "cell_type": "markdown",
   "metadata": {},
   "source": [
    "Your first task on the topic modelling data is to train an LDA model. For this task you will be using [spaCy](https://spacy.io/) and the [gensim](https://radimrehurek.com/gensim/) topic modelling library.\n",
    "\n",
    "Start by preprocessing the data using spaCy. Given that the data set for this problem is rather small, you do not have to exclude any components from the standard pipeline. Filter out stop words, non-alphabetic tokens, and tokens less than 3 characters in length. Store the documents as a nested list where the first level of nesting corresponds to the sentences and the second level corresponds to the tokens in each sentence."
   ]
  },
  {
   "cell_type": "code",
   "execution_count": 26,
   "metadata": {},
   "outputs": [],
   "source": [
    "# TODO: Replace the following lines with your own code for preprocessing the documents\n",
    "with open(\"sotu_1975_2000.txt\") as source:\n",
    "    documents = [line.split() for line in source]"
   ]
  },
  {
   "cell_type": "markdown",
   "metadata": {},
   "source": [
    "### Pre-process function"
   ]
  },
  {
   "cell_type": "code",
   "execution_count": 27,
   "metadata": {},
   "outputs": [],
   "source": [
    "def preprocess2(text):\n",
    "    doc = nlp(text)\n",
    "    out = [token.text for token in doc if not token.is_stop and token.lemma_.isalpha() and len(token.text)>=3]\n",
    "    return out"
   ]
  },
  {
   "cell_type": "markdown",
   "metadata": {},
   "source": [
    "Test your preprocessing by running the following cell:"
   ]
  },
  {
   "cell_type": "code",
   "execution_count": 28,
   "metadata": {},
   "outputs": [
    {
     "data": {
      "text/plain": [
       "'first we must reduce oil imports by 1 million barrels per day by the end of this year and by 2 million barrels per day by the end of 1977'"
      ]
     },
     "execution_count": 28,
     "metadata": {},
     "output_type": "execute_result"
    }
   ],
   "source": [
    "\" \".join(documents[42])"
   ]
  },
  {
   "cell_type": "code",
   "execution_count": 29,
   "metadata": {},
   "outputs": [
    {
     "data": {
      "text/plain": [
       "'reduce oil imports million barrels day end year million barrels day end'"
      ]
     },
     "execution_count": 29,
     "metadata": {},
     "output_type": "execute_result"
    }
   ],
   "source": [
    "\" \".join(preprocess2(\" \".join(documents[42])))"
   ]
  },
  {
   "cell_type": "markdown",
   "metadata": {},
   "source": [
    "You should get the following output:"
   ]
  },
  {
   "cell_type": "raw",
   "metadata": {},
   "source": [
    "'reduce oil imports million barrels day end year million barrels day end'"
   ]
  },
  {
   "cell_type": "markdown",
   "metadata": {},
   "source": [
    "Once you have the list of documents, skim the section [Pre-process and vectorize the documents](https://radimrehurek.com/gensim/auto_examples/tutorials/run_lda.html#pre-process-and-vectorize-the-documents) of the gensim documentation to learn how to create the dictionary and the vectorized corpus representation required by gensim. (Note that you cannot use the standard scikit-learn pipeline in this case.) Then, write code to train an [LdaModel](https://radimrehurek.com/gensim/models/ldamodel.html) for $k=10$ topics, and using default values for all other parameters."
   ]
  },
  {
   "cell_type": "markdown",
   "metadata": {
    "toc-hr-collapsed": true,
    "toc-nb-collapsed": true
   },
   "source": [
    "### Create Dictionary and Corpus"
   ]
  },
  {
   "cell_type": "code",
   "execution_count": 30,
   "metadata": {},
   "outputs": [],
   "source": [
    "docs = [\" \".join(preprocess2(\" \".join(doc))) for doc in documents]"
   ]
  },
  {
   "cell_type": "code",
   "execution_count": 31,
   "metadata": {},
   "outputs": [
    {
     "data": {
      "text/plain": [
       "'reduce oil imports million barrels day end year million barrels day end'"
      ]
     },
     "execution_count": 31,
     "metadata": {},
     "output_type": "execute_result"
    }
   ],
   "source": [
    "docs[42]"
   ]
  },
  {
   "cell_type": "markdown",
   "metadata": {},
   "source": [
    "#### 1. Tokenize Document"
   ]
  },
  {
   "cell_type": "code",
   "execution_count": 32,
   "metadata": {},
   "outputs": [],
   "source": [
    "# Tokenize the documents.\n",
    "from nltk.tokenize import RegexpTokenizer\n",
    "\n",
    "# Split the documents into tokens.\n",
    "tokenizer = RegexpTokenizer(r'\\w+')\n",
    "for idx in range(len(docs)):\n",
    "    docs[idx] = docs[idx].lower()  # Convert to lowercase.\n",
    "    docs[idx] = tokenizer.tokenize(docs[idx])  # Split into words.\n",
    "\n",
    "# Remove numbers, but not words that contain numbers.\n",
    "docs = [[token for token in doc if not token.isnumeric()] for doc in docs]\n",
    "\n",
    "# Remove words that are only one character.\n",
    "docs = [[token for token in doc if len(token) > 1] for doc in docs]"
   ]
  },
  {
   "cell_type": "markdown",
   "metadata": {},
   "source": [
    "#### 2. Lemmatize the doc"
   ]
  },
  {
   "cell_type": "code",
   "execution_count": 33,
   "metadata": {},
   "outputs": [],
   "source": [
    "# Lemmatize the documents.\n",
    "from nltk.stem.wordnet import WordNetLemmatizer\n",
    "\n",
    "lemmatizer = WordNetLemmatizer()\n",
    "docs = [[lemmatizer.lemmatize(token) for token in doc] for doc in docs]"
   ]
  },
  {
   "cell_type": "markdown",
   "metadata": {},
   "source": [
    "#### 3. Compute Bigrams"
   ]
  },
  {
   "cell_type": "code",
   "execution_count": 34,
   "metadata": {},
   "outputs": [],
   "source": [
    "# Compute bigrams.\n",
    "from gensim.models import Phrases\n",
    "\n",
    "# Add bigrams and trigrams to docs (only ones that appear 20 times or more).\n",
    "bigram = Phrases(docs, min_count=20)\n",
    "for idx in range(len(docs)):\n",
    "    for token in bigram[docs[idx]]:\n",
    "        if '_' in token:\n",
    "            # Token is a bigram, add to document.\n",
    "            docs[idx].append(token)"
   ]
  },
  {
   "cell_type": "markdown",
   "metadata": {},
   "source": [
    "#### 4. Create Bag-of-words"
   ]
  },
  {
   "cell_type": "code",
   "execution_count": 35,
   "metadata": {},
   "outputs": [],
   "source": [
    "from gensim.corpora import Dictionary\n",
    "# Create a dictionary representation of the documents.\n",
    "dictionary = Dictionary(docs)\n",
    "# Filter out words that occur less than 20 documents, or more than 50% of the documents.\n",
    "dictionary.filter_extremes(no_below=20, no_above=0.5)\n",
    "# Bag-of-words representation of the documents.\n",
    "corpus = [dictionary.doc2bow(doc) for doc in docs]"
   ]
  },
  {
   "cell_type": "code",
   "execution_count": 36,
   "metadata": {},
   "outputs": [
    {
     "name": "stdout",
     "output_type": "stream",
     "text": [
      "Number of unique tokens: 735\n",
      "Number of documents: 2898\n"
     ]
    }
   ],
   "source": [
    "print('Number of unique tokens: %d' % len(dictionary))\n",
    "print('Number of documents: %d' % len(corpus))"
   ]
  },
  {
   "cell_type": "markdown",
   "metadata": {},
   "source": [
    "### Train LDA Model"
   ]
  },
  {
   "cell_type": "code",
   "execution_count": 37,
   "metadata": {},
   "outputs": [],
   "source": [
    "from gensim.models import LdaModel\n",
    "# Set training parameters.\n",
    "num_topics = 10\n",
    "\n",
    "# Make a index to word dictionary.\n",
    "temp = dictionary[0]  # This is only to \"load\" the dictionary.\n",
    "id2word = dictionary.id2token\n",
    "\n",
    "model = LdaModel(corpus,\n",
    "                 id2word = id2word,\n",
    "                 num_topics=num_topics)"
   ]
  },
  {
   "cell_type": "markdown",
   "metadata": {},
   "source": [
    "Once you have a trained model, run the following cell to print the topics:"
   ]
  },
  {
   "cell_type": "code",
   "execution_count": 38,
   "metadata": {},
   "outputs": [
    {
     "data": {
      "text/plain": [
       "[(0,\n",
       "  '0.022*\"year\" + 0.019*\"american\" + 0.018*\"let\" + 0.017*\"program\" + 0.016*\"help\" + 0.013*\"america\" + 0.013*\"state\" + 0.011*\"drug\" + 0.010*\"child\" + 0.010*\"congress\"'),\n",
       " (1,\n",
       "  '0.020*\"new\" + 0.014*\"year\" + 0.014*\"way\" + 0.013*\"energy\" + 0.012*\"national\" + 0.010*\"program\" + 0.009*\"budget\" + 0.009*\"nation\" + 0.008*\"security\" + 0.008*\"congress\"'),\n",
       " (2,\n",
       "  '0.031*\"year\" + 0.019*\"america\" + 0.019*\"american\" + 0.018*\"family\" + 0.016*\"child\" + 0.013*\"century\" + 0.013*\"challenge\" + 0.012*\"house\" + 0.012*\"new\" + 0.010*\"tonight\"'),\n",
       " (3,\n",
       "  '0.018*\"nation\" + 0.017*\"year\" + 0.013*\"god\" + 0.013*\"technology\" + 0.013*\"god_bless\" + 0.013*\"bless\" + 0.012*\"america\" + 0.012*\"long\" + 0.012*\"community\" + 0.011*\"thank\"'),\n",
       " (4,\n",
       "  '0.018*\"world\" + 0.018*\"new\" + 0.016*\"america\" + 0.015*\"american\" + 0.013*\"year\" + 0.012*\"family\" + 0.012*\"child\" + 0.011*\"rate\" + 0.010*\"people\" + 0.010*\"tax\"'),\n",
       " (5,\n",
       "  '0.023*\"child\" + 0.019*\"government\" + 0.015*\"school\" + 0.013*\"parent\" + 0.012*\"economy\" + 0.012*\"year\" + 0.012*\"state\" + 0.011*\"new\" + 0.010*\"world\" + 0.010*\"private\"'),\n",
       " (6,\n",
       "  '0.029*\"child\" + 0.024*\"work\" + 0.019*\"year\" + 0.018*\"american\" + 0.017*\"america\" + 0.015*\"people\" + 0.013*\"world\" + 0.011*\"nation\" + 0.011*\"new\" + 0.011*\"time\"'),\n",
       " (7,\n",
       "  '0.017*\"crime\" + 0.016*\"citizen\" + 0.014*\"president\" + 0.013*\"new\" + 0.013*\"member\" + 0.013*\"government\" + 0.012*\"know\" + 0.012*\"right\" + 0.011*\"century\" + 0.011*\"congress\"'),\n",
       " (8,\n",
       "  '0.043*\"year\" + 0.020*\"american\" + 0.017*\"cut\" + 0.016*\"congress\" + 0.015*\"tax\" + 0.014*\"people\" + 0.012*\"work\" + 0.011*\"percent\" + 0.010*\"new\" + 0.009*\"million\"'),\n",
       " (9,\n",
       "  '0.028*\"people\" + 0.022*\"america\" + 0.021*\"american\" + 0.018*\"new\" + 0.015*\"security\" + 0.014*\"work\" + 0.014*\"know\" + 0.014*\"year\" + 0.012*\"country\" + 0.011*\"government\"')]"
      ]
     },
     "execution_count": 38,
     "metadata": {},
     "output_type": "execute_result"
    }
   ],
   "source": [
    "model.print_topics()"
   ]
  },
  {
   "cell_type": "code",
   "execution_count": 39,
   "metadata": {},
   "outputs": [
    {
     "data": {
      "text/html": [
       "<div>\n",
       "<style scoped>\n",
       "    .dataframe tbody tr th:only-of-type {\n",
       "        vertical-align: middle;\n",
       "    }\n",
       "\n",
       "    .dataframe tbody tr th {\n",
       "        vertical-align: top;\n",
       "    }\n",
       "\n",
       "    .dataframe thead th {\n",
       "        text-align: right;\n",
       "    }\n",
       "</style>\n",
       "<table border=\"1\" class=\"dataframe\">\n",
       "  <thead>\n",
       "    <tr style=\"text-align: right;\">\n",
       "      <th></th>\n",
       "      <th>0</th>\n",
       "      <th>1</th>\n",
       "      <th>2</th>\n",
       "      <th>3</th>\n",
       "      <th>4</th>\n",
       "      <th>5</th>\n",
       "      <th>6</th>\n",
       "      <th>7</th>\n",
       "      <th>8</th>\n",
       "      <th>9</th>\n",
       "    </tr>\n",
       "  </thead>\n",
       "  <tbody>\n",
       "    <tr>\n",
       "      <th>0</th>\n",
       "      <td>(0.022986205, child)</td>\n",
       "      <td>(0.021737935, year)</td>\n",
       "      <td>(0.017951543, world)</td>\n",
       "      <td>(0.028418843, people)</td>\n",
       "      <td>(0.020201735, new)</td>\n",
       "      <td>(0.028674955, child)</td>\n",
       "      <td>(0.043217164, year)</td>\n",
       "      <td>(0.017441614, crime)</td>\n",
       "      <td>(0.030746069, year)</td>\n",
       "      <td>(0.01846164, nation)</td>\n",
       "    </tr>\n",
       "    <tr>\n",
       "      <th>1</th>\n",
       "      <td>(0.019004058, government)</td>\n",
       "      <td>(0.019293865, american)</td>\n",
       "      <td>(0.017610706, new)</td>\n",
       "      <td>(0.02229704, america)</td>\n",
       "      <td>(0.014308378, year)</td>\n",
       "      <td>(0.023755975, work)</td>\n",
       "      <td>(0.020276232, american)</td>\n",
       "      <td>(0.015923787, citizen)</td>\n",
       "      <td>(0.01867301, america)</td>\n",
       "      <td>(0.016814448, year)</td>\n",
       "    </tr>\n",
       "    <tr>\n",
       "      <th>2</th>\n",
       "      <td>(0.015391758, school)</td>\n",
       "      <td>(0.018484678, let)</td>\n",
       "      <td>(0.015674274, america)</td>\n",
       "      <td>(0.020816924, american)</td>\n",
       "      <td>(0.013598291, way)</td>\n",
       "      <td>(0.018824788, year)</td>\n",
       "      <td>(0.016512575, cut)</td>\n",
       "      <td>(0.014414362, president)</td>\n",
       "      <td>(0.018559106, american)</td>\n",
       "      <td>(0.013326971, god)</td>\n",
       "    </tr>\n",
       "    <tr>\n",
       "      <th>3</th>\n",
       "      <td>(0.013437903, parent)</td>\n",
       "      <td>(0.016888404, program)</td>\n",
       "      <td>(0.015249688, american)</td>\n",
       "      <td>(0.017689362, new)</td>\n",
       "      <td>(0.012649124, energy)</td>\n",
       "      <td>(0.017812943, american)</td>\n",
       "      <td>(0.01624971, congress)</td>\n",
       "      <td>(0.01333797, new)</td>\n",
       "      <td>(0.017505182, family)</td>\n",
       "      <td>(0.013223111, technology)</td>\n",
       "    </tr>\n",
       "    <tr>\n",
       "      <th>4</th>\n",
       "      <td>(0.0122441435, economy)</td>\n",
       "      <td>(0.016360195, help)</td>\n",
       "      <td>(0.0131134, year)</td>\n",
       "      <td>(0.015415188, security)</td>\n",
       "      <td>(0.012026628, national)</td>\n",
       "      <td>(0.01730547, america)</td>\n",
       "      <td>(0.015225813, tax)</td>\n",
       "      <td>(0.013017159, member)</td>\n",
       "      <td>(0.015589943, child)</td>\n",
       "      <td>(0.012517443, god_bless)</td>\n",
       "    </tr>\n",
       "    <tr>\n",
       "      <th>5</th>\n",
       "      <td>(0.011924842, year)</td>\n",
       "      <td>(0.012709367, america)</td>\n",
       "      <td>(0.011819086, family)</td>\n",
       "      <td>(0.014108517, work)</td>\n",
       "      <td>(0.009759065, program)</td>\n",
       "      <td>(0.0148722585, people)</td>\n",
       "      <td>(0.013742266, people)</td>\n",
       "      <td>(0.012979003, government)</td>\n",
       "      <td>(0.013160675, century)</td>\n",
       "      <td>(0.012514145, bless)</td>\n",
       "    </tr>\n",
       "    <tr>\n",
       "      <th>6</th>\n",
       "      <td>(0.011527876, state)</td>\n",
       "      <td>(0.012657817, state)</td>\n",
       "      <td>(0.011560527, child)</td>\n",
       "      <td>(0.013751344, know)</td>\n",
       "      <td>(0.009302522, budget)</td>\n",
       "      <td>(0.012982504, world)</td>\n",
       "      <td>(0.011908766, work)</td>\n",
       "      <td>(0.012453728, know)</td>\n",
       "      <td>(0.013011877, challenge)</td>\n",
       "      <td>(0.012221645, america)</td>\n",
       "    </tr>\n",
       "    <tr>\n",
       "      <th>7</th>\n",
       "      <td>(0.0114133535, new)</td>\n",
       "      <td>(0.010747124, drug)</td>\n",
       "      <td>(0.010501814, rate)</td>\n",
       "      <td>(0.013734661, year)</td>\n",
       "      <td>(0.00870952, nation)</td>\n",
       "      <td>(0.011415696, nation)</td>\n",
       "      <td>(0.010595616, percent)</td>\n",
       "      <td>(0.012146404, right)</td>\n",
       "      <td>(0.012064069, house)</td>\n",
       "      <td>(0.012132996, long)</td>\n",
       "    </tr>\n",
       "    <tr>\n",
       "      <th>8</th>\n",
       "      <td>(0.010327195, world)</td>\n",
       "      <td>(0.010465229, child)</td>\n",
       "      <td>(0.01049841, people)</td>\n",
       "      <td>(0.011503629, country)</td>\n",
       "      <td>(0.007819439, security)</td>\n",
       "      <td>(0.011202975, new)</td>\n",
       "      <td>(0.010421523, new)</td>\n",
       "      <td>(0.011389531, century)</td>\n",
       "      <td>(0.011821442, new)</td>\n",
       "      <td>(0.011694807, community)</td>\n",
       "    </tr>\n",
       "    <tr>\n",
       "      <th>9</th>\n",
       "      <td>(0.010178064, private)</td>\n",
       "      <td>(0.010324701, congress)</td>\n",
       "      <td>(0.0104779005, tax)</td>\n",
       "      <td>(0.0105232345, government)</td>\n",
       "      <td>(0.007769439, congress)</td>\n",
       "      <td>(0.010696806, time)</td>\n",
       "      <td>(0.009306581, million)</td>\n",
       "      <td>(0.010999501, congress)</td>\n",
       "      <td>(0.010446649, tonight)</td>\n",
       "      <td>(0.011096456, thank)</td>\n",
       "    </tr>\n",
       "  </tbody>\n",
       "</table>\n",
       "</div>"
      ],
      "text/plain": [
       "                           0                        1  \\\n",
       "0       (0.022986205, child)      (0.021737935, year)   \n",
       "1  (0.019004058, government)  (0.019293865, american)   \n",
       "2      (0.015391758, school)       (0.018484678, let)   \n",
       "3      (0.013437903, parent)   (0.016888404, program)   \n",
       "4    (0.0122441435, economy)      (0.016360195, help)   \n",
       "5        (0.011924842, year)   (0.012709367, america)   \n",
       "6       (0.011527876, state)     (0.012657817, state)   \n",
       "7        (0.0114133535, new)      (0.010747124, drug)   \n",
       "8       (0.010327195, world)     (0.010465229, child)   \n",
       "9     (0.010178064, private)  (0.010324701, congress)   \n",
       "\n",
       "                         2                           3  \\\n",
       "0     (0.017951543, world)       (0.028418843, people)   \n",
       "1       (0.017610706, new)       (0.02229704, america)   \n",
       "2   (0.015674274, america)     (0.020816924, american)   \n",
       "3  (0.015249688, american)          (0.017689362, new)   \n",
       "4        (0.0131134, year)     (0.015415188, security)   \n",
       "5    (0.011819086, family)         (0.014108517, work)   \n",
       "6     (0.011560527, child)         (0.013751344, know)   \n",
       "7      (0.010501814, rate)         (0.013734661, year)   \n",
       "8     (0.01049841, people)      (0.011503629, country)   \n",
       "9      (0.0104779005, tax)  (0.0105232345, government)   \n",
       "\n",
       "                         4                        5                        6  \\\n",
       "0       (0.020201735, new)     (0.028674955, child)      (0.043217164, year)   \n",
       "1      (0.014308378, year)      (0.023755975, work)  (0.020276232, american)   \n",
       "2       (0.013598291, way)      (0.018824788, year)       (0.016512575, cut)   \n",
       "3    (0.012649124, energy)  (0.017812943, american)   (0.01624971, congress)   \n",
       "4  (0.012026628, national)    (0.01730547, america)       (0.015225813, tax)   \n",
       "5   (0.009759065, program)   (0.0148722585, people)    (0.013742266, people)   \n",
       "6    (0.009302522, budget)     (0.012982504, world)      (0.011908766, work)   \n",
       "7     (0.00870952, nation)    (0.011415696, nation)   (0.010595616, percent)   \n",
       "8  (0.007819439, security)       (0.011202975, new)       (0.010421523, new)   \n",
       "9  (0.007769439, congress)      (0.010696806, time)   (0.009306581, million)   \n",
       "\n",
       "                           7                         8  \\\n",
       "0       (0.017441614, crime)       (0.030746069, year)   \n",
       "1     (0.015923787, citizen)     (0.01867301, america)   \n",
       "2   (0.014414362, president)   (0.018559106, american)   \n",
       "3          (0.01333797, new)     (0.017505182, family)   \n",
       "4      (0.013017159, member)      (0.015589943, child)   \n",
       "5  (0.012979003, government)    (0.013160675, century)   \n",
       "6        (0.012453728, know)  (0.013011877, challenge)   \n",
       "7       (0.012146404, right)      (0.012064069, house)   \n",
       "8     (0.011389531, century)        (0.011821442, new)   \n",
       "9    (0.010999501, congress)    (0.010446649, tonight)   \n",
       "\n",
       "                           9  \n",
       "0       (0.01846164, nation)  \n",
       "1        (0.016814448, year)  \n",
       "2         (0.013326971, god)  \n",
       "3  (0.013223111, technology)  \n",
       "4   (0.012517443, god_bless)  \n",
       "5       (0.012514145, bless)  \n",
       "6     (0.012221645, america)  \n",
       "7        (0.012132996, long)  \n",
       "8   (0.011694807, community)  \n",
       "9       (0.011096456, thank)  "
      ]
     },
     "execution_count": 39,
     "metadata": {},
     "output_type": "execute_result"
    }
   ],
   "source": [
    "top_topics = model.top_topics(corpus)\n",
    "firstN = 10\n",
    "pd.DataFrame({i:[topic for topic in top_topics[i][0][:firstN]] for i in range(num_topics)})"
   ]
  },
  {
   "cell_type": "markdown",
   "metadata": {},
   "source": [
    "Inspect the topics. Do they make sense? Can you &lsquo;label&rsquo; each topic with a short description of what it is about? Do the topics contain any unexpected terms? Summarize your discussion in a short text."
   ]
  },
  {
   "cell_type": "markdown",
   "metadata": {},
   "source": [
    "*TODO: Insert your discussion of the topics here*"
   ]
  },
  {
   "cell_type": "markdown",
   "metadata": {},
   "source": [
    "## Problem 6: Monitoring a topic model for convergence"
   ]
  },
  {
   "cell_type": "markdown",
   "metadata": {},
   "source": [
    "When learning an LDA model, it is important to make sure that the training algorithm has converged to a stable posterior distribution. One way to do so is to plot, after each training epochs(or &lsquo;pass&rsquo;, in gensim parlance) the log likelihood of the training data under the posterior. Your last task in this lab is to create such a plot and, based on this, to suggest an appropriate number of epochs.\n",
    "\n",
    "To collect information about the posterior likelihood after each pass, we need to enable the logging facilities of gensim. Once this is done, gensim will add various diagnostics to a log file `gensim.log`."
   ]
  },
  {
   "cell_type": "code",
   "execution_count": 40,
   "metadata": {},
   "outputs": [],
   "source": [
    "import logging\n",
    "\n",
    "logging.basicConfig(filename=\"Gensim.log\", filemode='w', format=\"%(asctime)s:%(levelname)s:%(message)s\", level=logging.INFO)"
   ]
  },
  {
   "cell_type": "markdown",
   "metadata": {},
   "source": [
    "The following function will parse the generated logfile and return the list of log likelihoods."
   ]
  },
  {
   "cell_type": "code",
   "execution_count": 41,
   "metadata": {},
   "outputs": [],
   "source": [
    "import re\n",
    "\n",
    "def parse_logfile():\n",
    "    matcher = re.compile(\"(-*\\d+\\.\\d+) per-word .* (\\d+\\.\\d+) perplexity\")\n",
    "    likelihoods = []\n",
    "    with open(\"Gensim.log\") as source:\n",
    "        for line in source:\n",
    "            match = matcher.search(line)\n",
    "            if match:\n",
    "                likelihoods.append(float(match.group(1)))\n",
    "    return likelihoods"
   ]
  },
  {
   "cell_type": "markdown",
   "metadata": {},
   "source": [
    "Your task now is to re-train your LDA model for 50&nbsp;passes, retrieve the list of log likelihoods, and create a plot from this data."
   ]
  },
  {
   "cell_type": "code",
   "execution_count": 42,
   "metadata": {},
   "outputs": [],
   "source": [
    "nPasses = 50\n",
    "model2 = LdaModel(corpus,\n",
    "                 id2word = id2word,\n",
    "                 num_topics=num_topics, passes=nPasses)"
   ]
  },
  {
   "cell_type": "code",
   "execution_count": 44,
   "metadata": {},
   "outputs": [],
   "source": [
    "logs = parse_logfile()"
   ]
  },
  {
   "cell_type": "code",
   "execution_count": 47,
   "metadata": {},
   "outputs": [
    {
     "data": {
      "image/png": "[encoded data removed]",
      "text/plain": [
       "<Figure size 576x360 with 1 Axes>"
      ]
     },
     "metadata": {
      "needs_background": "light"
     },
     "output_type": "display_data"
    }
   ],
   "source": [
    "fig, ax = plt.subplots(figsize=(8, 5))\n",
    "ax.plot(range(1,nPasses+1), logs[-nPasses:], \".-\")\n",
    "ax.set(xlabel='passes', ylabel='log-likelihood',\n",
    "       title='Log-Likelihood over pass count')\n",
    "plt.show()"
   ]
  },
  {
   "cell_type": "markdown",
   "metadata": {},
   "source": [
    "How do you interpret your plot? What would be a reasonable choice for the number of passes? Retrain your LDA model with that number and re-inspect the topics it finds. Do you consider the new topics to be &lsquo;better&rsquo; than the ones that you got from the 1-pass model in Problem&nbsp;5?"
   ]
  },
  {
   "cell_type": "markdown",
   "metadata": {},
   "source": [
    "*TODO: Insert your discussion of these questions here*"
   ]
  },
  {
   "cell_type": "code",
   "execution_count": 48,
   "metadata": {},
   "outputs": [
    {
     "data": {
      "text/html": [
       "<div>\n",
       "<style scoped>\n",
       "    .dataframe tbody tr th:only-of-type {\n",
       "        vertical-align: middle;\n",
       "    }\n",
       "\n",
       "    .dataframe tbody tr th {\n",
       "        vertical-align: top;\n",
       "    }\n",
       "\n",
       "    .dataframe thead th {\n",
       "        text-align: right;\n",
       "    }\n",
       "</style>\n",
       "<table border=\"1\" class=\"dataframe\">\n",
       "  <thead>\n",
       "    <tr style=\"text-align: right;\">\n",
       "      <th></th>\n",
       "      <th>0</th>\n",
       "      <th>1</th>\n",
       "      <th>2</th>\n",
       "      <th>3</th>\n",
       "      <th>4</th>\n",
       "      <th>5</th>\n",
       "      <th>6</th>\n",
       "      <th>7</th>\n",
       "      <th>8</th>\n",
       "      <th>9</th>\n",
       "    </tr>\n",
       "  </thead>\n",
       "  <tbody>\n",
       "    <tr>\n",
       "      <th>0</th>\n",
       "      <td>(0.04332917, year)</td>\n",
       "      <td>(0.04133253, america)</td>\n",
       "      <td>(0.030337075, policy)</td>\n",
       "      <td>(0.035071112, family)</td>\n",
       "      <td>(0.057414502, people)</td>\n",
       "      <td>(0.053058386, child)</td>\n",
       "      <td>(0.0496235, year)</td>\n",
       "      <td>(0.037448566, security)</td>\n",
       "      <td>(0.03884862, congress)</td>\n",
       "      <td>(0.03227791, year)</td>\n",
       "    </tr>\n",
       "    <tr>\n",
       "      <th>1</th>\n",
       "      <td>(0.028410226, tax)</td>\n",
       "      <td>(0.04054646, world)</td>\n",
       "      <td>(0.020741481, economic)</td>\n",
       "      <td>(0.03188149, care)</td>\n",
       "      <td>(0.045526322, know)</td>\n",
       "      <td>(0.03312454, community)</td>\n",
       "      <td>(0.02094156, new)</td>\n",
       "      <td>(0.029768432, force)</td>\n",
       "      <td>(0.025224857, crime)</td>\n",
       "      <td>(0.030579813, state)</td>\n",
       "    </tr>\n",
       "    <tr>\n",
       "      <th>2</th>\n",
       "      <td>(0.025447141, government)</td>\n",
       "      <td>(0.03222211, american)</td>\n",
       "      <td>(0.02003261, administration)</td>\n",
       "      <td>(0.030498348, child)</td>\n",
       "      <td>(0.03826604, american)</td>\n",
       "      <td>(0.031407602, school)</td>\n",
       "      <td>(0.020579264, time)</td>\n",
       "      <td>(0.026962778, soviet)</td>\n",
       "      <td>(0.025199702, law)</td>\n",
       "      <td>(0.028893825, school)</td>\n",
       "    </tr>\n",
       "    <tr>\n",
       "      <th>3</th>\n",
       "      <td>(0.025337014, program)</td>\n",
       "      <td>(0.026834304, nation)</td>\n",
       "      <td>(0.01880179, nation)</td>\n",
       "      <td>(0.029398095, health)</td>\n",
       "      <td>(0.025770374, government)</td>\n",
       "      <td>(0.026826354, social)</td>\n",
       "      <td>(0.020504473, economy)</td>\n",
       "      <td>(0.02454924, defense)</td>\n",
       "      <td>(0.023017094, reform)</td>\n",
       "      <td>(0.020569244, middle)</td>\n",
       "    </tr>\n",
       "    <tr>\n",
       "      <th>4</th>\n",
       "      <td>(0.0236493, federal)</td>\n",
       "      <td>(0.026810363, people)</td>\n",
       "      <td>(0.01607399, energy)</td>\n",
       "      <td>(0.028665626, work)</td>\n",
       "      <td>(0.022931648, way)</td>\n",
       "      <td>(0.02406274, america)</td>\n",
       "      <td>(0.018746236, ago)</td>\n",
       "      <td>(0.021040374, military)</td>\n",
       "      <td>(0.021799173, president)</td>\n",
       "      <td>(0.018683344, united)</td>\n",
       "    </tr>\n",
       "    <tr>\n",
       "      <th>5</th>\n",
       "      <td>(0.023196673, cut)</td>\n",
       "      <td>(0.01948656, freedom)</td>\n",
       "      <td>(0.015114017, trade)</td>\n",
       "      <td>(0.023262642, million)</td>\n",
       "      <td>(0.022255415, work)</td>\n",
       "      <td>(0.021453286, security)</td>\n",
       "      <td>(0.01712182, year_ago)</td>\n",
       "      <td>(0.020218886, woman)</td>\n",
       "      <td>(0.017433075, bill)</td>\n",
       "      <td>(0.018411612, education)</td>\n",
       "    </tr>\n",
       "    <tr>\n",
       "      <th>6</th>\n",
       "      <td>(0.021115296, rate)</td>\n",
       "      <td>(0.019205242, peace)</td>\n",
       "      <td>(0.01498804, system)</td>\n",
       "      <td>(0.020868752, american)</td>\n",
       "      <td>(0.020804903, want)</td>\n",
       "      <td>(0.019724863, social_security)</td>\n",
       "      <td>(0.016806737, world)</td>\n",
       "      <td>(0.01797005, nation)</td>\n",
       "      <td>(0.016875312, budget)</td>\n",
       "      <td>(0.01725461, united_state)</td>\n",
       "    </tr>\n",
       "    <tr>\n",
       "      <th>7</th>\n",
       "      <td>(0.020994825, budget)</td>\n",
       "      <td>(0.018840915, state)</td>\n",
       "      <td>(0.014278904, program)</td>\n",
       "      <td>(0.019462354, job)</td>\n",
       "      <td>(0.019020177, like)</td>\n",
       "      <td>(0.018713584, parent)</td>\n",
       "      <td>(0.016216291, day)</td>\n",
       "      <td>(0.017713789, war)</td>\n",
       "      <td>(0.016734218, right)</td>\n",
       "      <td>(0.016605275, congress)</td>\n",
       "    </tr>\n",
       "    <tr>\n",
       "      <th>8</th>\n",
       "      <td>(0.018961474, new)</td>\n",
       "      <td>(0.017317673, union)</td>\n",
       "      <td>(0.0132283475, development)</td>\n",
       "      <td>(0.019280868, year)</td>\n",
       "      <td>(0.018486712, tonight)</td>\n",
       "      <td>(0.015490725, year)</td>\n",
       "      <td>(0.0146495765, american)</td>\n",
       "      <td>(0.015408504, national)</td>\n",
       "      <td>(0.016148988, year)</td>\n",
       "      <td>(0.016113525, right)</td>\n",
       "    </tr>\n",
       "    <tr>\n",
       "      <th>9</th>\n",
       "      <td>(0.018958565, billion)</td>\n",
       "      <td>(0.012559502, new)</td>\n",
       "      <td>(0.012903106, new)</td>\n",
       "      <td>(0.018890051, people)</td>\n",
       "      <td>(0.018101713, america)</td>\n",
       "      <td>(0.015120261, century)</td>\n",
       "      <td>(0.014513296, america)</td>\n",
       "      <td>(0.014331441, ally)</td>\n",
       "      <td>(0.0142753245, drug)</td>\n",
       "      <td>(0.01604705, new)</td>\n",
       "    </tr>\n",
       "  </tbody>\n",
       "</table>\n",
       "</div>"
      ],
      "text/plain": [
       "                           0                       1  \\\n",
       "0         (0.04332917, year)   (0.04133253, america)   \n",
       "1         (0.028410226, tax)     (0.04054646, world)   \n",
       "2  (0.025447141, government)  (0.03222211, american)   \n",
       "3     (0.025337014, program)   (0.026834304, nation)   \n",
       "4       (0.0236493, federal)   (0.026810363, people)   \n",
       "5         (0.023196673, cut)   (0.01948656, freedom)   \n",
       "6        (0.021115296, rate)    (0.019205242, peace)   \n",
       "7      (0.020994825, budget)    (0.018840915, state)   \n",
       "8         (0.018961474, new)    (0.017317673, union)   \n",
       "9     (0.018958565, billion)      (0.012559502, new)   \n",
       "\n",
       "                              2                        3  \\\n",
       "0         (0.030337075, policy)    (0.035071112, family)   \n",
       "1       (0.020741481, economic)       (0.03188149, care)   \n",
       "2  (0.02003261, administration)     (0.030498348, child)   \n",
       "3          (0.01880179, nation)    (0.029398095, health)   \n",
       "4          (0.01607399, energy)      (0.028665626, work)   \n",
       "5          (0.015114017, trade)   (0.023262642, million)   \n",
       "6          (0.01498804, system)  (0.020868752, american)   \n",
       "7        (0.014278904, program)       (0.019462354, job)   \n",
       "8   (0.0132283475, development)      (0.019280868, year)   \n",
       "9            (0.012903106, new)    (0.018890051, people)   \n",
       "\n",
       "                           4                               5  \\\n",
       "0      (0.057414502, people)            (0.053058386, child)   \n",
       "1        (0.045526322, know)         (0.03312454, community)   \n",
       "2     (0.03826604, american)           (0.031407602, school)   \n",
       "3  (0.025770374, government)           (0.026826354, social)   \n",
       "4         (0.022931648, way)           (0.02406274, america)   \n",
       "5        (0.022255415, work)         (0.021453286, security)   \n",
       "6        (0.020804903, want)  (0.019724863, social_security)   \n",
       "7        (0.019020177, like)           (0.018713584, parent)   \n",
       "8     (0.018486712, tonight)             (0.015490725, year)   \n",
       "9     (0.018101713, america)          (0.015120261, century)   \n",
       "\n",
       "                          6                        7  \\\n",
       "0         (0.0496235, year)  (0.037448566, security)   \n",
       "1         (0.02094156, new)     (0.029768432, force)   \n",
       "2       (0.020579264, time)    (0.026962778, soviet)   \n",
       "3    (0.020504473, economy)    (0.02454924, defense)   \n",
       "4        (0.018746236, ago)  (0.021040374, military)   \n",
       "5    (0.01712182, year_ago)     (0.020218886, woman)   \n",
       "6      (0.016806737, world)     (0.01797005, nation)   \n",
       "7        (0.016216291, day)       (0.017713789, war)   \n",
       "8  (0.0146495765, american)  (0.015408504, national)   \n",
       "9    (0.014513296, america)      (0.014331441, ally)   \n",
       "\n",
       "                          8                           9  \n",
       "0    (0.03884862, congress)          (0.03227791, year)  \n",
       "1      (0.025224857, crime)        (0.030579813, state)  \n",
       "2        (0.025199702, law)       (0.028893825, school)  \n",
       "3     (0.023017094, reform)       (0.020569244, middle)  \n",
       "4  (0.021799173, president)       (0.018683344, united)  \n",
       "5       (0.017433075, bill)    (0.018411612, education)  \n",
       "6     (0.016875312, budget)  (0.01725461, united_state)  \n",
       "7      (0.016734218, right)     (0.016605275, congress)  \n",
       "8       (0.016148988, year)        (0.016113525, right)  \n",
       "9      (0.0142753245, drug)           (0.01604705, new)  "
      ]
     },
     "execution_count": 48,
     "metadata": {},
     "output_type": "execute_result"
    }
   ],
   "source": [
    "nPasses = 15\n",
    "model_best = LdaModel(corpus,\n",
    "                 id2word = id2word,\n",
    "                 num_topics=num_topics, passes=nPasses)\n",
    "\n",
    "top_topics = model_best.top_topics(corpus)\n",
    "firstN = 10\n",
    "pd.DataFrame({i:[topic for topic in top_topics[i][0][:firstN]] for i in range(num_topics)})"
   ]
  },
  {
   "cell_type": "markdown",
   "metadata": {},
   "source": [
    "<div class=\"alert alert-info\">\n",
    "    Please read the section ‘General information’ on the ‘Labs’ page of the course website before submitting this notebook!\n",
    "</div>"
   ]
  }
 ],
 "metadata": {
  "kernelspec": {
   "display_name": "Python 3",
   "language": "python",
   "name": "python3"
  },
  "language_info": {
   "codemirror_mode": {
    "name": "ipython",
    "version": 3
   },
   "file_extension": ".py",
   "mimetype": "text/x-python",
   "name": "python",
   "nbconvert_exporter": "python",
   "pygments_lexer": "ipython3",
   "version": "3.7.1"
  }
 },
 "nbformat": 4,
 "nbformat_minor": 4
}
