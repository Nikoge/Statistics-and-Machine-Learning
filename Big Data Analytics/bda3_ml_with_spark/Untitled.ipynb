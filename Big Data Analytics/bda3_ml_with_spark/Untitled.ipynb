{
 "cells": [
  {
   "cell_type": "code",
   "execution_count": 1,
   "metadata": {},
   "outputs": [],
   "source": [
    "from __future__ import division\n",
    "from math import radians, cos, sin, asin, sqrt, exp\n",
    "from datetime import datetime\n",
    "from pyspark import SparkContext\n",
    "\n",
    "sc = SparkContext(appName=\"lab_kernel\")\n",
    "\n"
   ]
  },
  {
   "cell_type": "code",
   "execution_count": 15,
   "metadata": {},
   "outputs": [],
   "source": [
    "# import the data\n",
    "stations = sc.textFile(\"../station_data/stations.csv\")\n",
    "temps = sc.textFile(\"../station_data/short_temperature_reads.csv\")\n",
    "\n",
    "\n",
    "# fix/map the data for semicolons\n",
    "stations = stations. \\\n",
    "    map(lambda line: line.split(\";\"))\n",
    "temps = temps. \\\n",
    "    map(lambda line: line.split(\";\"))\n",
    "\n",
    "### MAP THE DATA    \n",
    "# map it as\n",
    "# (station_no, (lat, long))\n",
    "stations = stations.map(lambda x: (x[0],(x[3], x[4])))\n",
    "\n",
    "# map it as\n",
    "# (station_no, (date, time, temp))\n",
    "temps = temps.map(lambda x: (x[0], (x[1], x[2], x[3])))\n",
    "\n",
    "### CREATE A BROADCAST TO GET VALUES BY KEY\n",
    "station_loc = stations.collectAsMap()\n",
    "bc = sc.broadcast(station_loc)\n",
    "\n",
    "# map the data (we joined stations with location info)\n",
    "# (station_no, (date, time, temp), (lat, long))\n",
    "rdd = temps.map(lambda x: (x[0], x[1], bc.value.get(x[0])))\n",
    "\n"
   ]
  },
  {
   "cell_type": "code",
   "execution_count": null,
   "metadata": {},
   "outputs": [],
   "source": [
    "##### function calculates the distance between two points\n",
    "def haversine(lon1, lat1, lon2, lat2):\n",
    "    #Calculate the great circle distance between two points\n",
    "    #on the earth (specified in decimal degrees)\n",
    "    \n",
    "    # convert decimal degrees to radians\n",
    "    lon1, lat1, lon2, lat2 = map(radians, [lon1, lat1, lon2, lat2])\n",
    "    \n",
    "    # haversine formula\n",
    "    dlon = lon2 - lon1\n",
    "    dlat = lat2 - lat1\n",
    "    a = sin(dlat/2)**2 + cos(lat1) * cos(lat2) * sin(dlon/2)**2\n",
    "    c = 2 * asin(sqrt(a))\n",
    "    km = 6367 * c\n",
    "    return km\n",
    "\n",
    "\n",
    "# function calculates the gaussian kernel\n",
    "def gaussian_kernel(h,dist):\n",
    "  \n",
    "  var = 2*(h**2)\n",
    "    \n",
    "  dist = dist**2\n",
    "\n",
    "  kernel = exp(-dist/var)\n",
    "    \n",
    "  return kernel  \n",
    "\n",
    "#function calculates the distance between dates\n",
    "\n",
    "def dates_diff(d1,d2):\n",
    "    date_format = \"%m/%d/%Y\"\n",
    "    a = datetime.strptime(d1, date_format)\n",
    "    b = datetime.strptime(d2, date_format)\n",
    "    delta = b - a\n",
    "    return delta.days \n",
    "\n",
    "\n",
    "#function calculates the distance between dates\n",
    "\n",
    "def time_diff(d1,d2):\n",
    "    date_format = \"%m/%d/%Y\"\n",
    "    a = datetime.strptime(d1, date_format)\n",
    "    b = datetime.strptime(d2, date_format)\n",
    "    delta = b - a\n",
    "    return delta.days \n",
    "\n",
    "\n",
    "\n",
    "\n",
    "\n",
    "\n",
    "##### USER's INPUT\n",
    "\n",
    "times = tuple([\"{:02d}:00:00\".format(i) for i in range(4,26,2)])\n",
    "#times = (\"04:00:00\",\"06:00:00\" ,\"08:00:00\",\"10:00:00\",\"12:00:00\",\n",
    "           #\"14:00:00\",\"16:00:00\",\"18:00:00\",\"20:00:00\",\"22:00:00\",\"24:00:00\")\n",
    "\n",
    "#h_distance = # Up to you\n",
    "#h_date = # Up to you\n",
    "#h_time = # Up to you\n",
    "a = 58.4274 # Up to you\n",
    "b = 14.826 # Up to you\n",
    "date = \"2013-07-04\" # Up to you\n",
    "\n",
    "\n",
    "\n"
   ]
  },
  {
   "cell_type": "code",
   "execution_count": 31,
   "metadata": {},
   "outputs": [
    {
     "name": "stdout",
     "output_type": "stream",
     "text": [
      "39\n"
     ]
    }
   ],
   "source": []
  }
 ],
 "metadata": {
  "kernelspec": {
   "display_name": "Python 3",
   "language": "python",
   "name": "python3"
  },
  "language_info": {
   "codemirror_mode": {
    "name": "ipython",
    "version": 3
   },
   "file_extension": ".py",
   "mimetype": "text/x-python",
   "name": "python",
   "nbconvert_exporter": "python",
   "pygments_lexer": "ipython3",
   "version": "3.7.1"
  }
 },
 "nbformat": 4,
 "nbformat_minor": 2
}
